{
 "cells": [
  {
   "cell_type": "code",
   "execution_count": 1,
   "metadata": {},
   "outputs": [],
   "source": [
    "import pandas as pd\n",
    "from sklearn.model_selection import train_test_split\n",
    "from sklearn.feature_extraction.text import CountVectorizer"
   ]
  },
  {
   "cell_type": "code",
   "execution_count": 2,
   "metadata": {},
   "outputs": [
    {
     "data": {
      "text/html": [
       "<div>\n",
       "<style scoped>\n",
       "    .dataframe tbody tr th:only-of-type {\n",
       "        vertical-align: middle;\n",
       "    }\n",
       "\n",
       "    .dataframe tbody tr th {\n",
       "        vertical-align: top;\n",
       "    }\n",
       "\n",
       "    .dataframe thead th {\n",
       "        text-align: right;\n",
       "    }\n",
       "</style>\n",
       "<table border=\"1\" class=\"dataframe\">\n",
       "  <thead>\n",
       "    <tr style=\"text-align: right;\">\n",
       "      <th></th>\n",
       "      <th>No.</th>\n",
       "      <th>Nama Instagram</th>\n",
       "      <th>Komentar</th>\n",
       "      <th>Kategori</th>\n",
       "      <th>Tanggal Posting</th>\n",
       "      <th>Nama Akun IG  Artis/Selebgram</th>\n",
       "      <th>Unnamed: 6</th>\n",
       "      <th>Unnamed: 7</th>\n",
       "    </tr>\n",
       "  </thead>\n",
       "  <tbody>\n",
       "    <tr>\n",
       "      <th>0</th>\n",
       "      <td>1</td>\n",
       "      <td>@delliananda</td>\n",
       "      <td>\"Kaka tidur yaa, udah pagi, gaboleh capek2\"</td>\n",
       "      <td>Non-bullying</td>\n",
       "      <td>14 Oktober 2019</td>\n",
       "      <td>@isyanasarasvati</td>\n",
       "      <td>NaN</td>\n",
       "      <td>NaN</td>\n",
       "    </tr>\n",
       "    <tr>\n",
       "      <th>1</th>\n",
       "      <td>2</td>\n",
       "      <td>@fenninbl</td>\n",
       "      <td>\"makan nasi padang aja begini badannya\"</td>\n",
       "      <td>Non-bullying</td>\n",
       "      <td>14 Oktober 2019</td>\n",
       "      <td>@isyanasarasvati</td>\n",
       "      <td>NaN</td>\n",
       "      <td>NaN</td>\n",
       "    </tr>\n",
       "    <tr>\n",
       "      <th>2</th>\n",
       "      <td>3</td>\n",
       "      <td>@abdurahmanshq</td>\n",
       "      <td>\"yang aku suka dari dia adalah selalu cukur je...</td>\n",
       "      <td>Bullying</td>\n",
       "      <td>14 Oktober 2019</td>\n",
       "      <td>@isyanasarasvati</td>\n",
       "      <td>NaN</td>\n",
       "      <td>NaN</td>\n",
       "    </tr>\n",
       "    <tr>\n",
       "      <th>3</th>\n",
       "      <td>4</td>\n",
       "      <td>@najla.yoo</td>\n",
       "      <td>\"Hai kak Isyana aku ngefans banget sama kak Is...</td>\n",
       "      <td>Non-bullying</td>\n",
       "      <td>14 Oktober 2019</td>\n",
       "      <td>@isyanasarasvati</td>\n",
       "      <td>NaN</td>\n",
       "      <td>NaN</td>\n",
       "    </tr>\n",
       "    <tr>\n",
       "      <th>4</th>\n",
       "      <td>5</td>\n",
       "      <td>@dessy_______</td>\n",
       "      <td>\"Manusia apa bidadari sih herann deh cantik te...</td>\n",
       "      <td>Non-bullying</td>\n",
       "      <td>14 Oktober 2019</td>\n",
       "      <td>@isyanasarasvati</td>\n",
       "      <td>NaN</td>\n",
       "      <td>NaN</td>\n",
       "    </tr>\n",
       "  </tbody>\n",
       "</table>\n",
       "</div>"
      ],
      "text/plain": [
       "   No.  Nama Instagram                                           Komentar  \\\n",
       "0    1    @delliananda        \"Kaka tidur yaa, udah pagi, gaboleh capek2\"   \n",
       "1    2       @fenninbl            \"makan nasi padang aja begini badannya\"   \n",
       "2    3  @abdurahmanshq  \"yang aku suka dari dia adalah selalu cukur je...   \n",
       "3    4      @najla.yoo  \"Hai kak Isyana aku ngefans banget sama kak Is...   \n",
       "4    5   @dessy_______  \"Manusia apa bidadari sih herann deh cantik te...   \n",
       "\n",
       "       Kategori  Tanggal Posting Nama Akun IG  Artis/Selebgram  Unnamed: 6  \\\n",
       "0  Non-bullying  14 Oktober 2019              @isyanasarasvati         NaN   \n",
       "1  Non-bullying  14 Oktober 2019              @isyanasarasvati         NaN   \n",
       "2      Bullying  14 Oktober 2019              @isyanasarasvati         NaN   \n",
       "3  Non-bullying  14 Oktober 2019              @isyanasarasvati         NaN   \n",
       "4  Non-bullying  14 Oktober 2019              @isyanasarasvati         NaN   \n",
       "\n",
       "  Unnamed: 7  \n",
       "0        NaN  \n",
       "1        NaN  \n",
       "2        NaN  \n",
       "3        NaN  \n",
       "4        NaN  "
      ]
     },
     "execution_count": 2,
     "metadata": {},
     "output_type": "execute_result"
    }
   ],
   "source": [
    "data = pd.read_csv(\"../dataset/dataset-cyberbullying.csv\")\n",
    "data.head()"
   ]
  },
  {
   "cell_type": "code",
   "execution_count": 3,
   "metadata": {},
   "outputs": [
    {
     "name": "stdout",
     "output_type": "stream",
     "text": [
      "<class 'pandas.core.frame.DataFrame'>\n",
      "RangeIndex: 650 entries, 0 to 649\n",
      "Data columns (total 8 columns):\n",
      " #   Column                         Non-Null Count  Dtype  \n",
      "---  ------                         --------------  -----  \n",
      " 0   No.                            650 non-null    int64  \n",
      " 1   Nama Instagram                 650 non-null    object \n",
      " 2   Komentar                       650 non-null    object \n",
      " 3   Kategori                       650 non-null    object \n",
      " 4   Tanggal Posting                650 non-null    object \n",
      " 5   Nama Akun IG  Artis/Selebgram  650 non-null    object \n",
      " 6   Unnamed: 6                     0 non-null      float64\n",
      " 7   Unnamed: 7                     1 non-null      object \n",
      "dtypes: float64(1), int64(1), object(6)\n",
      "memory usage: 40.8+ KB\n"
     ]
    }
   ],
   "source": [
    "data.info()"
   ]
  },
  {
   "cell_type": "code",
   "execution_count": 4,
   "metadata": {},
   "outputs": [
    {
     "name": "stderr",
     "output_type": "stream",
     "text": [
      "/tmp/ipykernel_22649/1653748368.py:1: FutureWarning: The default value of regex will change from True to False in a future version.\n",
      "  data['Komentar'] = data['Komentar'].str.replace(r\"[\\\"\\',]\", '')\n"
     ]
    },
    {
     "data": {
      "text/html": [
       "<div>\n",
       "<style scoped>\n",
       "    .dataframe tbody tr th:only-of-type {\n",
       "        vertical-align: middle;\n",
       "    }\n",
       "\n",
       "    .dataframe tbody tr th {\n",
       "        vertical-align: top;\n",
       "    }\n",
       "\n",
       "    .dataframe thead th {\n",
       "        text-align: right;\n",
       "    }\n",
       "</style>\n",
       "<table border=\"1\" class=\"dataframe\">\n",
       "  <thead>\n",
       "    <tr style=\"text-align: right;\">\n",
       "      <th></th>\n",
       "      <th>No.</th>\n",
       "      <th>Nama Instagram</th>\n",
       "      <th>Komentar</th>\n",
       "      <th>Kategori</th>\n",
       "      <th>Tanggal Posting</th>\n",
       "      <th>Nama Akun IG  Artis/Selebgram</th>\n",
       "      <th>Unnamed: 6</th>\n",
       "      <th>Unnamed: 7</th>\n",
       "    </tr>\n",
       "  </thead>\n",
       "  <tbody>\n",
       "    <tr>\n",
       "      <th>0</th>\n",
       "      <td>1</td>\n",
       "      <td>@delliananda</td>\n",
       "      <td>Kaka tidur yaa udah pagi gaboleh capek2</td>\n",
       "      <td>Non-bullying</td>\n",
       "      <td>14 Oktober 2019</td>\n",
       "      <td>@isyanasarasvati</td>\n",
       "      <td>NaN</td>\n",
       "      <td>NaN</td>\n",
       "    </tr>\n",
       "    <tr>\n",
       "      <th>1</th>\n",
       "      <td>2</td>\n",
       "      <td>@fenninbl</td>\n",
       "      <td>makan nasi padang aja begini badannya</td>\n",
       "      <td>Non-bullying</td>\n",
       "      <td>14 Oktober 2019</td>\n",
       "      <td>@isyanasarasvati</td>\n",
       "      <td>NaN</td>\n",
       "      <td>NaN</td>\n",
       "    </tr>\n",
       "    <tr>\n",
       "      <th>2</th>\n",
       "      <td>3</td>\n",
       "      <td>@abdurahmanshq</td>\n",
       "      <td>yang aku suka dari dia adalah selalu cukur jem...</td>\n",
       "      <td>Bullying</td>\n",
       "      <td>14 Oktober 2019</td>\n",
       "      <td>@isyanasarasvati</td>\n",
       "      <td>NaN</td>\n",
       "      <td>NaN</td>\n",
       "    </tr>\n",
       "    <tr>\n",
       "      <th>3</th>\n",
       "      <td>4</td>\n",
       "      <td>@najla.yoo</td>\n",
       "      <td>Hai kak Isyana aku ngefans banget sama kak Isy...</td>\n",
       "      <td>Non-bullying</td>\n",
       "      <td>14 Oktober 2019</td>\n",
       "      <td>@isyanasarasvati</td>\n",
       "      <td>NaN</td>\n",
       "      <td>NaN</td>\n",
       "    </tr>\n",
       "    <tr>\n",
       "      <th>4</th>\n",
       "      <td>5</td>\n",
       "      <td>@dessy_______</td>\n",
       "      <td>Manusia apa bidadari sih herann deh cantik ter...</td>\n",
       "      <td>Non-bullying</td>\n",
       "      <td>14 Oktober 2019</td>\n",
       "      <td>@isyanasarasvati</td>\n",
       "      <td>NaN</td>\n",
       "      <td>NaN</td>\n",
       "    </tr>\n",
       "  </tbody>\n",
       "</table>\n",
       "</div>"
      ],
      "text/plain": [
       "   No.  Nama Instagram                                           Komentar  \\\n",
       "0    1    @delliananda            Kaka tidur yaa udah pagi gaboleh capek2   \n",
       "1    2       @fenninbl              makan nasi padang aja begini badannya   \n",
       "2    3  @abdurahmanshq  yang aku suka dari dia adalah selalu cukur jem...   \n",
       "3    4      @najla.yoo  Hai kak Isyana aku ngefans banget sama kak Isy...   \n",
       "4    5   @dessy_______  Manusia apa bidadari sih herann deh cantik ter...   \n",
       "\n",
       "       Kategori  Tanggal Posting Nama Akun IG  Artis/Selebgram  Unnamed: 6  \\\n",
       "0  Non-bullying  14 Oktober 2019              @isyanasarasvati         NaN   \n",
       "1  Non-bullying  14 Oktober 2019              @isyanasarasvati         NaN   \n",
       "2      Bullying  14 Oktober 2019              @isyanasarasvati         NaN   \n",
       "3  Non-bullying  14 Oktober 2019              @isyanasarasvati         NaN   \n",
       "4  Non-bullying  14 Oktober 2019              @isyanasarasvati         NaN   \n",
       "\n",
       "  Unnamed: 7  \n",
       "0        NaN  \n",
       "1        NaN  \n",
       "2        NaN  \n",
       "3        NaN  \n",
       "4        NaN  "
      ]
     },
     "execution_count": 4,
     "metadata": {},
     "output_type": "execute_result"
    }
   ],
   "source": [
    "data['Komentar'] = data['Komentar'].str.replace(r\"[\\\"\\',]\", '')\n",
    "data.head()"
   ]
  },
  {
   "cell_type": "code",
   "execution_count": 5,
   "metadata": {},
   "outputs": [],
   "source": [
    "x = data['Komentar']\n",
    "y = data['Kategori']\n",
    "\n",
    "x_train, x_test, y_train, y_test = train_test_split(x, y, test_size=0.2, random_state=0)"
   ]
  },
  {
   "cell_type": "code",
   "execution_count": 6,
   "metadata": {},
   "outputs": [],
   "source": [
    "cv = CountVectorizer() \n",
    "x_train = cv.fit_transform(x_train)\n",
    "x_test = cv.transform(x_test)"
   ]
  },
  {
   "cell_type": "code",
   "execution_count": 7,
   "metadata": {},
   "outputs": [
    {
     "data": {
      "text/plain": [
       "LinearSVC()"
      ]
     },
     "execution_count": 7,
     "metadata": {},
     "output_type": "execute_result"
    }
   ],
   "source": [
    "from sklearn.svm import LinearSVC\n",
    "\n",
    "model = LinearSVC()\n",
    "model.fit(x_train, y_train)"
   ]
  },
  {
   "cell_type": "code",
   "execution_count": 8,
   "metadata": {},
   "outputs": [
    {
     "data": {
      "text/plain": [
       "0.8384615384615385"
      ]
     },
     "execution_count": 8,
     "metadata": {},
     "output_type": "execute_result"
    }
   ],
   "source": [
    "model.score(x_test,y_test)"
   ]
  },
  {
   "cell_type": "code",
   "execution_count": 9,
   "metadata": {},
   "outputs": [
    {
     "data": {
      "text/plain": [
       "['../model/Vectorizer.pkl']"
      ]
     },
     "execution_count": 9,
     "metadata": {},
     "output_type": "execute_result"
    }
   ],
   "source": [
    "import joblib\n",
    "\n",
    "joblib.dump(model, '../model/SVM_Cyberbullying_model.pkl')\n",
    "joblib.dump(cv, '../model/Vectorizer.pkl')"
   ]
  },
  {
   "cell_type": "code",
   "execution_count": 13,
   "metadata": {},
   "outputs": [
    {
     "data": {
      "text/plain": [
       "array(['Non-bullying'], dtype=object)"
      ]
     },
     "execution_count": 13,
     "metadata": {},
     "output_type": "execute_result"
    }
   ],
   "source": [
    "inputan = cv.transform([\"Bagus\"])\n",
    "model.predict(inputan)"
   ]
  }
 ],
 "metadata": {
  "interpreter": {
   "hash": "209f28d86855a094d4f14cdd97bedcceac4f440b5bf990af507c55e1462b2e25"
  },
  "kernelspec": {
   "display_name": "Python 3.8.10 64-bit ('env': venv)",
   "language": "python",
   "name": "python3"
  },
  "language_info": {
   "codemirror_mode": {
    "name": "ipython",
    "version": 3
   },
   "file_extension": ".py",
   "mimetype": "text/x-python",
   "name": "python",
   "nbconvert_exporter": "python",
   "pygments_lexer": "ipython3",
   "version": "3.8.10"
  },
  "orig_nbformat": 4
 },
 "nbformat": 4,
 "nbformat_minor": 2
}
